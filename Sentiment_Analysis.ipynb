{
 "cells": [
  {
   "cell_type": "code",
   "execution_count": 1,
   "metadata": {
    "colab": {
     "base_uri": "https://localhost:8080/",
     "height": 121
    },
    "colab_type": "code",
    "executionInfo": {
     "elapsed": 45832,
     "status": "ok",
     "timestamp": 1559302604878,
     "user": {
      "displayName": "Sneha Raina",
      "photoUrl": "https://lh6.googleusercontent.com/-dNoZz33G64w/AAAAAAAAAAI/AAAAAAAAABI/Gv0kWKlYNI8/s64/photo.jpg",
      "userId": "11338606071996182085"
     },
     "user_tz": -330
    },
    "id": "sQbHLuJ7iek-",
    "outputId": "4798c9e8-22a6-4540-aa1a-80a2142d96e1"
   },
   "outputs": [
    {
     "name": "stdout",
     "output_type": "stream",
     "text": [
      "Go to this URL in a browser: https://accounts.google.com/o/oauth2/auth?client_id=947318989803-6bn6qk8qdgf4n4g3pfee6491hc0brc4i.apps.googleusercontent.com&redirect_uri=urn%3Aietf%3Awg%3Aoauth%3A2.0%3Aoob&scope=email%20https%3A%2F%2Fwww.googleapis.com%2Fauth%2Fdocs.test%20https%3A%2F%2Fwww.googleapis.com%2Fauth%2Fdrive%20https%3A%2F%2Fwww.googleapis.com%2Fauth%2Fdrive.photos.readonly%20https%3A%2F%2Fwww.googleapis.com%2Fauth%2Fpeopleapi.readonly&response_type=code\n",
      "\n",
      "Enter your authorization code:\n",
      "··········\n",
      "Mounted at /content/drive/\n"
     ]
    }
   ],
   "source": [
    "from google.colab import drive\n",
    "drive.mount('/content/drive/')"
   ]
  },
  {
   "cell_type": "code",
   "execution_count": 3,
   "metadata": {
    "colab": {
     "base_uri": "https://localhost:8080/",
     "height": 34
    },
    "colab_type": "code",
    "executionInfo": {
     "elapsed": 1446,
     "status": "ok",
     "timestamp": 1559302634577,
     "user": {
      "displayName": "Sneha Raina",
      "photoUrl": "https://lh6.googleusercontent.com/-dNoZz33G64w/AAAAAAAAAAI/AAAAAAAAABI/Gv0kWKlYNI8/s64/photo.jpg",
      "userId": "11338606071996182085"
     },
     "user_tz": -330
    },
    "id": "zeAdCsJwre0v",
    "outputId": "96c2d64c-a7ca-49b8-90bd-7d295c7c78d1"
   },
   "outputs": [
    {
     "data": {
      "text/plain": [
       "'/content'"
      ]
     },
     "execution_count": 3,
     "metadata": {
      "tags": []
     },
     "output_type": "execute_result"
    }
   ],
   "source": [
    "pwd"
   ]
  },
  {
   "cell_type": "code",
   "execution_count": 4,
   "metadata": {
    "colab": {
     "base_uri": "https://localhost:8080/",
     "height": 34
    },
    "colab_type": "code",
    "executionInfo": {
     "elapsed": 1628,
     "status": "ok",
     "timestamp": 1559302644693,
     "user": {
      "displayName": "Sneha Raina",
      "photoUrl": "https://lh6.googleusercontent.com/-dNoZz33G64w/AAAAAAAAAAI/AAAAAAAAABI/Gv0kWKlYNI8/s64/photo.jpg",
      "userId": "11338606071996182085"
     },
     "user_tz": -330
    },
    "id": "CcTOyPejdX-O",
    "outputId": "f948a6c1-792c-4163-9765-9f08c6836c41"
   },
   "outputs": [
    {
     "name": "stdout",
     "output_type": "stream",
     "text": [
      "/content/drive\n"
     ]
    }
   ],
   "source": [
    "cd drive"
   ]
  },
  {
   "cell_type": "code",
   "execution_count": 6,
   "metadata": {
    "colab": {
     "base_uri": "https://localhost:8080/",
     "height": 34
    },
    "colab_type": "code",
    "executionInfo": {
     "elapsed": 1540,
     "status": "ok",
     "timestamp": 1559302665225,
     "user": {
      "displayName": "Sneha Raina",
      "photoUrl": "https://lh6.googleusercontent.com/-dNoZz33G64w/AAAAAAAAAAI/AAAAAAAAABI/Gv0kWKlYNI8/s64/photo.jpg",
      "userId": "11338606071996182085"
     },
     "user_tz": -330
    },
    "id": "6wbjRieIrikU",
    "outputId": "a85eaa26-a762-4825-9242-e44a7bb2a2c0"
   },
   "outputs": [
    {
     "name": "stdout",
     "output_type": "stream",
     "text": [
      "/content/drive/My Drive\n"
     ]
    }
   ],
   "source": [
    "cd My Drive"
   ]
  },
  {
   "cell_type": "code",
   "execution_count": 7,
   "metadata": {
    "colab": {
     "base_uri": "https://localhost:8080/",
     "height": 34
    },
    "colab_type": "code",
    "executionInfo": {
     "elapsed": 1536,
     "status": "ok",
     "timestamp": 1559302669812,
     "user": {
      "displayName": "Sneha Raina",
      "photoUrl": "https://lh6.googleusercontent.com/-dNoZz33G64w/AAAAAAAAAAI/AAAAAAAAABI/Gv0kWKlYNI8/s64/photo.jpg",
      "userId": "11338606071996182085"
     },
     "user_tz": -330
    },
    "id": "ehvhn8-Ndb2Q",
    "outputId": "875c8f0e-9b06-49dd-a826-b27cfcb34d9a"
   },
   "outputs": [
    {
     "name": "stdout",
     "output_type": "stream",
     "text": [
      "/content/drive/My Drive/pytorchChallenge\n"
     ]
    }
   ],
   "source": [
    "cd pytorchChallenge"
   ]
  },
  {
   "cell_type": "code",
   "execution_count": 12,
   "metadata": {
    "colab": {
     "base_uri": "https://localhost:8080/",
     "height": 34
    },
    "colab_type": "code",
    "executionInfo": {
     "elapsed": 1525,
     "status": "ok",
     "timestamp": 1559302933214,
     "user": {
      "displayName": "Sneha Raina",
      "photoUrl": "https://lh6.googleusercontent.com/-dNoZz33G64w/AAAAAAAAAAI/AAAAAAAAABI/Gv0kWKlYNI8/s64/photo.jpg",
      "userId": "11338606071996182085"
     },
     "user_tz": -330
    },
    "id": "EY4IjR49sg7j",
    "outputId": "eaa54bda-a119-4491-b952-0e1b175b1f9b"
   },
   "outputs": [
    {
     "name": "stdout",
     "output_type": "stream",
     "text": [
      "/content/drive/My Drive/pytorchChallenge/Sentiment analysis\n"
     ]
    }
   ],
   "source": [
    "cd Sentiment analysis"
   ]
  },
  {
   "cell_type": "code",
   "execution_count": 0,
   "metadata": {
    "colab": {},
    "colab_type": "code",
    "id": "NHNtmUPeDyOl"
   },
   "outputs": [],
   "source": [
    "import numpy as np\n",
    "\n",
    "# read data from text files\n",
    "with open('data/reviews.txt', 'r') as f:\n",
    "    reviews = f.read()\n",
    "with open('data/labels.txt', 'r') as f:\n",
    "    labels = f.read()"
   ]
  },
  {
   "cell_type": "code",
   "execution_count": 14,
   "metadata": {
    "colab": {
     "base_uri": "https://localhost:8080/",
     "height": 238
    },
    "colab_type": "code",
    "executionInfo": {
     "elapsed": 1382,
     "status": "ok",
     "timestamp": 1559302949314,
     "user": {
      "displayName": "Sneha Raina",
      "photoUrl": "https://lh6.googleusercontent.com/-dNoZz33G64w/AAAAAAAAAAI/AAAAAAAAABI/Gv0kWKlYNI8/s64/photo.jpg",
      "userId": "11338606071996182085"
     },
     "user_tz": -330
    },
    "id": "HIESYmeGQPQ-",
    "outputId": "f373bb79-394f-4ba3-cba5-e7740a887e8e"
   },
   "outputs": [
    {
     "name": "stdout",
     "output_type": "stream",
     "text": [
      "bromwell high is a cartoon comedy . it ran at the same time as some other programs about school life  such as  teachers  . my   years in the teaching profession lead me to believe that bromwell high  s satire is much closer to reality than is  teachers  . the scramble to survive financially  the insightful students who can see right through their pathetic teachers  pomp  the pettiness of the whole situation  all remind me of the schools i knew and their students . when i saw the episode in which a student repeatedly tried to burn down the school  i immediately recalled . . . . . . . . . at . . . . . . . . . . high . a classic line inspector i  m here to sack one of your teachers . student welcome to bromwell high . i expect that many adults of my age think that bromwell high is far fetched . what a pity that it isn  t   \n",
      "story of a man who has unnatural feelings for a pig . starts out with a opening scene that is a terrific example of absurd comedy . a formal orchestra audience is turned into an insane  violent mob by the crazy chantings of it  s singers . unfortunately it stays absurd the whole time with no general narrative eventually making it just too off putting . even those from the era should be turned off . the cryptic dialogue would make shakespeare seem easy to a third grader . on a technical level it  s better than you might think with some good cinematography by future great vilmos zsigmond . future stars sally kirkland and frederic forrest can be seen briefly .  \n",
      "homelessness  or houselessness as george carlin stated  has been an issue for years but never a plan to help those on the street that were once considered human who did everything from going to school  work  or vote for the matter . most people think of the homeless as just a lost cause while worrying about things such as racism  the war on iraq  pressuring kids to succeed  technology  the elections  inflation  or worrying if they  ll be next to end up on the streets .  br    br   but what if y\n",
      "\n",
      "positive\n",
      "negative\n",
      "positive\n",
      "negative\n",
      "positive\n",
      "negative\n",
      "positive\n",
      "negative\n"
     ]
    }
   ],
   "source": [
    "print(reviews[:2000])\n",
    "print()\n",
    "print(labels[:71])"
   ]
  },
  {
   "cell_type": "code",
   "execution_count": 15,
   "metadata": {
    "colab": {
     "base_uri": "https://localhost:8080/",
     "height": 34
    },
    "colab_type": "code",
    "executionInfo": {
     "elapsed": 5755,
     "status": "ok",
     "timestamp": 1559303052730,
     "user": {
      "displayName": "Sneha Raina",
      "photoUrl": "https://lh6.googleusercontent.com/-dNoZz33G64w/AAAAAAAAAAI/AAAAAAAAABI/Gv0kWKlYNI8/s64/photo.jpg",
      "userId": "11338606071996182085"
     },
     "user_tz": -330
    },
    "id": "bF8WsXMpRkK4",
    "outputId": "deb2babb-988c-4514-f6c8-a77913b8db0c"
   },
   "outputs": [
    {
     "name": "stdout",
     "output_type": "stream",
     "text": [
      "!\"#$%&'()*+,-./:;<=>?@[\\]^_`{|}~\n"
     ]
    }
   ],
   "source": [
    "from string import punctuation\n",
    "\n",
    "print(punctuation)\n",
    "\n",
    "# get rid of punctuation\n",
    "reviews = reviews.lower() # lowercase, standardize\n",
    "all_text = ''.join([c for c in reviews if c not in punctuation])\n",
    "\n",
    "# split by new lines and spaces\n",
    "reviews_split = all_text.split('\\n')\n",
    "all_text = ' '.join(reviews_split)\n",
    "\n",
    "# create a list of words\n",
    "words = all_text.split()"
   ]
  },
  {
   "cell_type": "code",
   "execution_count": 16,
   "metadata": {
    "colab": {
     "base_uri": "https://localhost:8080/",
     "height": 269
    },
    "colab_type": "code",
    "executionInfo": {
     "elapsed": 1608,
     "status": "ok",
     "timestamp": 1559303063951,
     "user": {
      "displayName": "Sneha Raina",
      "photoUrl": "https://lh6.googleusercontent.com/-dNoZz33G64w/AAAAAAAAAAI/AAAAAAAAABI/Gv0kWKlYNI8/s64/photo.jpg",
      "userId": "11338606071996182085"
     },
     "user_tz": -330
    },
    "id": "xv7qthXNWAJB",
    "outputId": "9654481b-b2b8-46d0-f0a1-149a997b0cb2"
   },
   "outputs": [
    {
     "data": {
      "text/plain": [
       "['bromwell',\n",
       " 'high',\n",
       " 'is',\n",
       " 'a',\n",
       " 'cartoon',\n",
       " 'comedy',\n",
       " 'it',\n",
       " 'ran',\n",
       " 'at',\n",
       " 'the',\n",
       " 'same',\n",
       " 'time',\n",
       " 'as',\n",
       " 'some',\n",
       " 'other']"
      ]
     },
     "execution_count": 16,
     "metadata": {
      "tags": []
     },
     "output_type": "execute_result"
    }
   ],
   "source": [
    "words[:15]"
   ]
  },
  {
   "cell_type": "code",
   "execution_count": 0,
   "metadata": {
    "colab": {},
    "colab_type": "code",
    "id": "qnmHkUUBQT2P"
   },
   "outputs": [],
   "source": [
    "\n",
    "from collections import Counter\n",
    "\n",
    "## Build a dictionary that maps words to integers\n",
    "counts = Counter(words)\n",
    "vocab = sorted(counts, key=counts.get, reverse=True)\n",
    "vocab_to_int = {word: ii for ii, word in enumerate(vocab, 1)}\n",
    "\n",
    "## use the dict to tokenize each review in reviews_split\n",
    "## store the tokenized reviews in reviews_ints\n",
    "reviews_ints = []\n",
    "for review in reviews_split:\n",
    "    reviews_ints.append([vocab_to_int[word] for word in review.split()])"
   ]
  },
  {
   "cell_type": "code",
   "execution_count": 18,
   "metadata": {
    "colab": {
     "base_uri": "https://localhost:8080/",
     "height": 104
    },
    "colab_type": "code",
    "executionInfo": {
     "elapsed": 1228,
     "status": "ok",
     "timestamp": 1559303074377,
     "user": {
      "displayName": "Sneha Raina",
      "photoUrl": "https://lh6.googleusercontent.com/-dNoZz33G64w/AAAAAAAAAAI/AAAAAAAAABI/Gv0kWKlYNI8/s64/photo.jpg",
      "userId": "11338606071996182085"
     },
     "user_tz": -330
    },
    "id": "cNlfZNVPduRE",
    "outputId": "71ed6383-50c6-4e69-dd8e-034629f41c99"
   },
   "outputs": [
    {
     "name": "stdout",
     "output_type": "stream",
     "text": [
      "Unique words:  74072\n",
      "\n",
      "Tokenized review: \n",
      " [[21025, 308, 6, 3, 1050, 207, 8, 2138, 32, 1, 171, 57, 15, 49, 81, 5785, 44, 382, 110, 140, 15, 5194, 60, 154, 9, 1, 4975, 5852, 475, 71, 5, 260, 12, 21025, 308, 13, 1978, 6, 74, 2395, 5, 613, 73, 6, 5194, 1, 24103, 5, 1983, 10166, 1, 5786, 1499, 36, 51, 66, 204, 145, 67, 1199, 5194, 19869, 1, 37442, 4, 1, 221, 883, 31, 2988, 71, 4, 1, 5787, 10, 686, 2, 67, 1499, 54, 10, 216, 1, 383, 9, 62, 3, 1406, 3686, 783, 5, 3483, 180, 1, 382, 10, 1212, 13583, 32, 308, 3, 349, 341, 2913, 10, 143, 127, 5, 7690, 30, 4, 129, 5194, 1406, 2326, 5, 21025, 308, 10, 528, 12, 109, 1448, 4, 60, 543, 102, 12, 21025, 308, 6, 227, 4146, 48, 3, 2211, 12, 8, 215, 23]]\n"
     ]
    }
   ],
   "source": [
    "# stats about vocabulary\n",
    "print('Unique words: ', len((vocab_to_int)))  # should ~ 74000+\n",
    "print()\n",
    "\n",
    "# print tokens in first review\n",
    "print('Tokenized review: \\n', reviews_ints[:1])"
   ]
  },
  {
   "cell_type": "code",
   "execution_count": 0,
   "metadata": {
    "colab": {},
    "colab_type": "code",
    "id": "spfwsUWsduz1"
   },
   "outputs": [],
   "source": [
    "# 1=positive, 0=negative label conversion\n",
    "labels_split = labels.split('\\n')\n",
    "encoded_labels = np.array([1 if label == 'positive' else 0 for label in labels_split])"
   ]
  },
  {
   "cell_type": "code",
   "execution_count": 20,
   "metadata": {
    "colab": {
     "base_uri": "https://localhost:8080/",
     "height": 50
    },
    "colab_type": "code",
    "executionInfo": {
     "elapsed": 1803,
     "status": "ok",
     "timestamp": 1559303081994,
     "user": {
      "displayName": "Sneha Raina",
      "photoUrl": "https://lh6.googleusercontent.com/-dNoZz33G64w/AAAAAAAAAAI/AAAAAAAAABI/Gv0kWKlYNI8/s64/photo.jpg",
      "userId": "11338606071996182085"
     },
     "user_tz": -330
    },
    "id": "FTR1gJicenv8",
    "outputId": "3a23c79c-0183-42cb-851d-2beb07d55cb0"
   },
   "outputs": [
    {
     "name": "stdout",
     "output_type": "stream",
     "text": [
      "Zero-length reviews: 1\n",
      "Maximum review length: 2514\n"
     ]
    }
   ],
   "source": [
    "# outlier review stats\n",
    "review_lens = Counter([len(x) for x in reviews_ints])\n",
    "print(\"Zero-length reviews: {}\".format(review_lens[0]))\n",
    "print(\"Maximum review length: {}\".format(max(review_lens)))"
   ]
  },
  {
   "cell_type": "code",
   "execution_count": 21,
   "metadata": {
    "colab": {
     "base_uri": "https://localhost:8080/",
     "height": 50
    },
    "colab_type": "code",
    "executionInfo": {
     "elapsed": 1633,
     "status": "ok",
     "timestamp": 1559303088576,
     "user": {
      "displayName": "Sneha Raina",
      "photoUrl": "https://lh6.googleusercontent.com/-dNoZz33G64w/AAAAAAAAAAI/AAAAAAAAABI/Gv0kWKlYNI8/s64/photo.jpg",
      "userId": "11338606071996182085"
     },
     "user_tz": -330
    },
    "id": "gY_ieuHKere2",
    "outputId": "8d833735-7dbe-4016-9de4-59980acb4fe3"
   },
   "outputs": [
    {
     "name": "stdout",
     "output_type": "stream",
     "text": [
      "Number of reviews before removing outliers:  25001\n",
      "Number of reviews after removing outliers:  25000\n"
     ]
    }
   ],
   "source": [
    "print('Number of reviews before removing outliers: ', len(reviews_ints))\n",
    "\n",
    "## remove any reviews/labels with zero length from the reviews_ints list.\n",
    "\n",
    "# get indices of any reviews with length 0\n",
    "non_zero_idx = [ii for ii, review in enumerate(reviews_ints) if len(review) != 0]\n",
    "\n",
    "# remove 0-length reviews and their labels\n",
    "reviews_ints = [reviews_ints[ii] for ii in non_zero_idx]\n",
    "encoded_labels = np.array([encoded_labels[ii] for ii in non_zero_idx])\n",
    "\n",
    "print('Number of reviews after removing outliers: ', len(reviews_ints))"
   ]
  },
  {
   "cell_type": "code",
   "execution_count": 0,
   "metadata": {
    "colab": {},
    "colab_type": "code",
    "id": "mfXNcfvPex3U"
   },
   "outputs": [],
   "source": [
    "def pad_features(reviews_ints, seq_length):\n",
    "    ''' Return features of review_ints, where each review is padded with 0's \n",
    "        or truncated to the input seq_length.\n",
    "    '''\n",
    "    \n",
    "    # getting the correct rows x cols shape\n",
    "    features = np.zeros((len(reviews_ints), seq_length), dtype=int)\n",
    "\n",
    "    # for each review, I grab that review and \n",
    "    for i, row in enumerate(reviews_ints):\n",
    "        features[i, -len(row):] = np.array(row)[:seq_length]\n",
    "    \n",
    "    return features"
   ]
  },
  {
   "cell_type": "code",
   "execution_count": 23,
   "metadata": {
    "colab": {
     "base_uri": "https://localhost:8080/",
     "height": 521
    },
    "colab_type": "code",
    "executionInfo": {
     "elapsed": 1466,
     "status": "ok",
     "timestamp": 1559303099459,
     "user": {
      "displayName": "Sneha Raina",
      "photoUrl": "https://lh6.googleusercontent.com/-dNoZz33G64w/AAAAAAAAAAI/AAAAAAAAABI/Gv0kWKlYNI8/s64/photo.jpg",
      "userId": "11338606071996182085"
     },
     "user_tz": -330
    },
    "id": "vIlUENACe2z7",
    "outputId": "aaab7851-1d3b-4173-8cc1-edbf437cc52f"
   },
   "outputs": [
    {
     "name": "stdout",
     "output_type": "stream",
     "text": [
      "[[    0     0     0     0     0     0     0     0     0     0]\n",
      " [    0     0     0     0     0     0     0     0     0     0]\n",
      " [22382    42 46418    15   706 17139  3389    47    77    35]\n",
      " [ 4505   505    15     3  3342   162  8312  1652     6  4819]\n",
      " [    0     0     0     0     0     0     0     0     0     0]\n",
      " [    0     0     0     0     0     0     0     0     0     0]\n",
      " [    0     0     0     0     0     0     0     0     0     0]\n",
      " [    0     0     0     0     0     0     0     0     0     0]\n",
      " [    0     0     0     0     0     0     0     0     0     0]\n",
      " [   54    10    14   116    60   798   552    71   364     5]\n",
      " [    0     0     0     0     0     0     0     0     0     0]\n",
      " [    0     0     0     0     0     0     0     0     0     0]\n",
      " [    0     0     0     0     0     0     0     0     0     0]\n",
      " [    1   330   578    34     3   162   748  2731     9   325]\n",
      " [    9    11 10171  5305  1946   689   444    22   280   673]\n",
      " [    0     0     0     0     0     0     0     0     0     0]\n",
      " [    1   307 10399  2069  1565  6202  6528  3288 17946 10628]\n",
      " [    0     0     0     0     0     0     0     0     0     0]\n",
      " [   21   122  2069  1565   515  8181    88     6  1325  1182]\n",
      " [    1    20     6    76    40     6    58    81    95     5]\n",
      " [   54    10    84   329 26230 46427    63    10    14   614]\n",
      " [   11    20     6    30  1436 32317  3769   690 15100     6]\n",
      " [    0     0     0     0     0     0     0     0     0     0]\n",
      " [    0     0     0     0     0     0     0     0     0     0]\n",
      " [   40    26   109 17952  1422     9     1   327     4   125]\n",
      " [    0     0     0     0     0     0     0     0     0     0]\n",
      " [   10   499     1   307 10399    55    74     8    13    30]\n",
      " [    0     0     0     0     0     0     0     0     0     0]\n",
      " [    0     0     0     0     0     0     0     0     0     0]\n",
      " [    0     0     0     0     0     0     0     0     0     0]]\n"
     ]
    }
   ],
   "source": [
    "# Test your implementation!\n",
    "\n",
    "seq_length = 200\n",
    "\n",
    "features = pad_features(reviews_ints, seq_length=seq_length)\n",
    "\n",
    "## test statements - do not change - ##\n",
    "assert len(features)==len(reviews_ints), \"Your features should have as many rows as reviews.\"\n",
    "assert len(features[0])==seq_length, \"Each feature row should contain seq_length values.\"\n",
    "\n",
    "# print first 10 values of the first 30 batches \n",
    "print(features[:30,:10])"
   ]
  },
  {
   "cell_type": "code",
   "execution_count": 24,
   "metadata": {
    "colab": {
     "base_uri": "https://localhost:8080/",
     "height": 84
    },
    "colab_type": "code",
    "executionInfo": {
     "elapsed": 1607,
     "status": "ok",
     "timestamp": 1559303106171,
     "user": {
      "displayName": "Sneha Raina",
      "photoUrl": "https://lh6.googleusercontent.com/-dNoZz33G64w/AAAAAAAAAAI/AAAAAAAAABI/Gv0kWKlYNI8/s64/photo.jpg",
      "userId": "11338606071996182085"
     },
     "user_tz": -330
    },
    "id": "Wi_NnGuTe7JA",
    "outputId": "b5d771b3-a11c-4bcd-ba28-92fe5a850c17"
   },
   "outputs": [
    {
     "name": "stdout",
     "output_type": "stream",
     "text": [
      "\t\t\tFeature Shapes:\n",
      "Train set: \t\t(20000, 200) \n",
      "Validation set: \t(2500, 200) \n",
      "Test set: \t\t(2500, 200)\n"
     ]
    }
   ],
   "source": [
    "split_frac = 0.8\n",
    "\n",
    "## split data into training, validation, and test data (features and labels, x and y)\n",
    "\n",
    "split_idx = int(len(features)*0.8)\n",
    "train_x, remaining_x = features[:split_idx], features[split_idx:]\n",
    "train_y, remaining_y = encoded_labels[:split_idx], encoded_labels[split_idx:]\n",
    "\n",
    "test_idx = int(len(remaining_x)*0.5)\n",
    "val_x, test_x = remaining_x[:test_idx], remaining_x[test_idx:]\n",
    "val_y, test_y = remaining_y[:test_idx], remaining_y[test_idx:]\n",
    "\n",
    "## print out the shapes of your resultant feature data\n",
    "print(\"\\t\\t\\tFeature Shapes:\")\n",
    "print(\"Train set: \\t\\t{}\".format(train_x.shape), \n",
    "      \"\\nValidation set: \\t{}\".format(val_x.shape),\n",
    "      \"\\nTest set: \\t\\t{}\".format(test_x.shape))"
   ]
  },
  {
   "cell_type": "code",
   "execution_count": 0,
   "metadata": {
    "colab": {},
    "colab_type": "code",
    "id": "H2uDDcFAe_5a"
   },
   "outputs": [],
   "source": [
    "import torch\n",
    "from torch.utils.data import TensorDataset, DataLoader\n",
    "\n",
    "# create Tensor datasets\n",
    "train_data = TensorDataset(torch.from_numpy(train_x), torch.from_numpy(train_y))\n",
    "valid_data = TensorDataset(torch.from_numpy(val_x), torch.from_numpy(val_y))\n",
    "test_data = TensorDataset(torch.from_numpy(test_x), torch.from_numpy(test_y))\n",
    "\n",
    "# dataloaders\n",
    "batch_size = 50\n",
    "\n",
    "# make sure the SHUFFLE your training data\n",
    "train_loader = DataLoader(train_data, shuffle=True, batch_size=batch_size)\n",
    "valid_loader = DataLoader(valid_data, shuffle=True, batch_size=batch_size)\n",
    "test_loader = DataLoader(test_data, shuffle=True, batch_size=batch_size)"
   ]
  },
  {
   "cell_type": "code",
   "execution_count": 26,
   "metadata": {
    "colab": {
     "base_uri": "https://localhost:8080/",
     "height": 269
    },
    "colab_type": "code",
    "executionInfo": {
     "elapsed": 1526,
     "status": "ok",
     "timestamp": 1559303118831,
     "user": {
      "displayName": "Sneha Raina",
      "photoUrl": "https://lh6.googleusercontent.com/-dNoZz33G64w/AAAAAAAAAAI/AAAAAAAAABI/Gv0kWKlYNI8/s64/photo.jpg",
      "userId": "11338606071996182085"
     },
     "user_tz": -330
    },
    "id": "QJJ14KX2fDly",
    "outputId": "a6f9bc0d-7a86-4668-f944-24077eb497d3"
   },
   "outputs": [
    {
     "name": "stdout",
     "output_type": "stream",
     "text": [
      "Sample input size:  torch.Size([50, 200])\n",
      "Sample input: \n",
      " tensor([[    1,  2005,   984,  ...,  8592,  1318,    14],\n",
      "        [    0,     0,     0,  ...,    57,    21,    28],\n",
      "        [    1,    20,     6,  ...,     4,     1,    18],\n",
      "        ...,\n",
      "        [    9,  2697,     4,  ...,     5,   397,     1],\n",
      "        [   11,    20,    47,  ..., 20023,     2,     5],\n",
      "        [    1,   228,     4,  ...,   674,  1770,  1315]])\n",
      "\n",
      "Sample label size:  torch.Size([50])\n",
      "Sample label: \n",
      " tensor([1, 0, 0, 0, 0, 0, 1, 0, 1, 1, 1, 1, 1, 1, 0, 1, 0, 0, 1, 0, 1, 0, 0, 0,\n",
      "        0, 1, 1, 0, 1, 0, 0, 0, 1, 0, 0, 0, 0, 0, 0, 1, 1, 1, 1, 1, 1, 0, 1, 0,\n",
      "        0, 1])\n"
     ]
    }
   ],
   "source": [
    "# obtain one batch of training data\n",
    "dataiter = iter(train_loader)\n",
    "sample_x, sample_y = dataiter.next()\n",
    "\n",
    "print('Sample input size: ', sample_x.size()) # batch_size, seq_length\n",
    "print('Sample input: \\n', sample_x)\n",
    "print()\n",
    "print('Sample label size: ', sample_y.size()) # batch_size\n",
    "print('Sample label: \\n', sample_y)"
   ]
  },
  {
   "cell_type": "code",
   "execution_count": 28,
   "metadata": {
    "colab": {
     "base_uri": "https://localhost:8080/",
     "height": 34
    },
    "colab_type": "code",
    "executionInfo": {
     "elapsed": 1431,
     "status": "ok",
     "timestamp": 1559303132478,
     "user": {
      "displayName": "Sneha Raina",
      "photoUrl": "https://lh6.googleusercontent.com/-dNoZz33G64w/AAAAAAAAAAI/AAAAAAAAABI/Gv0kWKlYNI8/s64/photo.jpg",
      "userId": "11338606071996182085"
     },
     "user_tz": -330
    },
    "id": "BhewBHltfG9B",
    "outputId": "d067d6d7-ef10-4a0b-a869-8d65a1e009e8"
   },
   "outputs": [
    {
     "name": "stdout",
     "output_type": "stream",
     "text": [
      "Training on GPU.\n"
     ]
    }
   ],
   "source": [
    "# First checking if GPU is available\n",
    "train_on_gpu=torch.cuda.is_available()\n",
    "\n",
    "if(train_on_gpu):\n",
    "    print('Training on GPU.')\n",
    "else:\n",
    "    print('No GPU available, training on CPU.')"
   ]
  },
  {
   "cell_type": "code",
   "execution_count": 0,
   "metadata": {
    "colab": {},
    "colab_type": "code",
    "id": "MSPS2WmnfKMt"
   },
   "outputs": [],
   "source": [
    "import torch.nn as nn\n",
    "\n",
    "class SentimentRNN(nn.Module):\n",
    "    \"\"\"\n",
    "    The RNN model that will be used to perform Sentiment analysis.\n",
    "    \"\"\"\n",
    "\n",
    "    def __init__(self, vocab_size, output_size, embedding_dim, hidden_dim, n_layers, drop_prob=0.5):\n",
    "        \"\"\"\n",
    "        Initialize the model by setting up the layers.\n",
    "        \"\"\"\n",
    "        super(SentimentRNN, self).__init__()\n",
    "\n",
    "        self.output_size = output_size\n",
    "        self.n_layers = n_layers\n",
    "        self.hidden_dim = hidden_dim\n",
    "        \n",
    "        # embedding and LSTM layers\n",
    "        self.embedding = nn.Embedding(vocab_size, embedding_dim)\n",
    "        self.lstm = nn.LSTM(embedding_dim, hidden_dim, n_layers, \n",
    "                            dropout=drop_prob, batch_first=True)\n",
    "        \n",
    "        # dropout layer\n",
    "        self.dropout = nn.Dropout(0.3)\n",
    "        \n",
    "        # linear and sigmoid layers\n",
    "        self.fc = nn.Linear(hidden_dim, output_size)\n",
    "        self.sig = nn.Sigmoid()\n",
    "        \n",
    "\n",
    "    def forward(self, x, hidden):\n",
    "        \"\"\"\n",
    "        Perform a forward pass of our model on some input and hidden state.\n",
    "        \"\"\"\n",
    "        batch_size = x.size(0)\n",
    "\n",
    "        # embeddings and lstm_out\n",
    "        embeds = self.embedding(x)\n",
    "        lstm_out, hidden = self.lstm(embeds, hidden)\n",
    "    \n",
    "        # stack up lstm outputs\n",
    "        lstm_out = lstm_out.contiguous().view(-1, self.hidden_dim)\n",
    "        \n",
    "        # dropout and fully-connected layer\n",
    "        out = self.dropout(lstm_out)\n",
    "        out = self.fc(out)\n",
    "        # sigmoid function\n",
    "        sig_out = self.sig(out)\n",
    "        \n",
    "        # reshape to be batch_size first\n",
    "        sig_out = sig_out.view(batch_size, -1)\n",
    "        sig_out = sig_out[:, -1] # get last batch of labels\n",
    "        \n",
    "        # return last sigmoid output and hidden state\n",
    "        return sig_out, hidden\n",
    "    \n",
    "    \n",
    "    def init_hidden(self, batch_size):\n",
    "        ''' Initializes hidden state '''\n",
    "        # Create two new tensors with sizes n_layers x batch_size x hidden_dim,\n",
    "        # initialized to zero, for hidden state and cell state of LSTM\n",
    "        weight = next(self.parameters()).data\n",
    "        \n",
    "        if (train_on_gpu):\n",
    "            hidden = (weight.new(self.n_layers, batch_size, self.hidden_dim).zero_().cuda(),\n",
    "                  weight.new(self.n_layers, batch_size, self.hidden_dim).zero_().cuda())\n",
    "        else:\n",
    "            hidden = (weight.new(self.n_layers, batch_size, self.hidden_dim).zero_(),\n",
    "                      weight.new(self.n_layers, batch_size, self.hidden_dim).zero_())\n",
    "        \n",
    "        return hidden\n",
    "        "
   ]
  },
  {
   "cell_type": "code",
   "execution_count": 30,
   "metadata": {
    "colab": {
     "base_uri": "https://localhost:8080/",
     "height": 134
    },
    "colab_type": "code",
    "executionInfo": {
     "elapsed": 1487,
     "status": "ok",
     "timestamp": 1559303146908,
     "user": {
      "displayName": "Sneha Raina",
      "photoUrl": "https://lh6.googleusercontent.com/-dNoZz33G64w/AAAAAAAAAAI/AAAAAAAAABI/Gv0kWKlYNI8/s64/photo.jpg",
      "userId": "11338606071996182085"
     },
     "user_tz": -330
    },
    "id": "SgBEbpCffO96",
    "outputId": "330aae33-c146-415a-dd01-771e02c0e88a"
   },
   "outputs": [
    {
     "name": "stdout",
     "output_type": "stream",
     "text": [
      "SentimentRNN(\n",
      "  (embedding): Embedding(74073, 400)\n",
      "  (lstm): LSTM(400, 256, num_layers=2, batch_first=True, dropout=0.5)\n",
      "  (dropout): Dropout(p=0.3)\n",
      "  (fc): Linear(in_features=256, out_features=1, bias=True)\n",
      "  (sig): Sigmoid()\n",
      ")\n"
     ]
    }
   ],
   "source": [
    "# Instantiate the model w/ hyperparams\n",
    "vocab_size = len(vocab_to_int)+1 # +1 for the 0 padding + our word tokens\n",
    "output_size = 1\n",
    "embedding_dim = 400\n",
    "hidden_dim = 256\n",
    "n_layers = 2\n",
    "\n",
    "net = SentimentRNN(vocab_size, output_size, embedding_dim, hidden_dim, n_layers)\n",
    "\n",
    "print(net)"
   ]
  },
  {
   "cell_type": "code",
   "execution_count": 0,
   "metadata": {
    "colab": {},
    "colab_type": "code",
    "id": "Q1121o35fRr7"
   },
   "outputs": [],
   "source": [
    "# loss and optimization functions\n",
    "lr=0.001\n",
    "\n",
    "criterion = nn.BCELoss()\n",
    "optimizer = torch.optim.Adam(net.parameters(), lr=lr)\n"
   ]
  },
  {
   "cell_type": "code",
   "execution_count": 32,
   "metadata": {
    "colab": {
     "base_uri": "https://localhost:8080/",
     "height": 286
    },
    "colab_type": "code",
    "executionInfo": {
     "elapsed": 103993,
     "status": "ok",
     "timestamp": 1559303257943,
     "user": {
      "displayName": "Sneha Raina",
      "photoUrl": "https://lh6.googleusercontent.com/-dNoZz33G64w/AAAAAAAAAAI/AAAAAAAAABI/Gv0kWKlYNI8/s64/photo.jpg",
      "userId": "11338606071996182085"
     },
     "user_tz": -330
    },
    "id": "TmXs8A9zfV-G",
    "outputId": "546ca3db-5099-4d68-935b-d369de8ad52b"
   },
   "outputs": [
    {
     "name": "stdout",
     "output_type": "stream",
     "text": [
      "Epoch: 1/4... Step: 100... Loss: 0.638631... Val Loss: 0.646551\n",
      "Epoch: 1/4... Step: 200... Loss: 0.657125... Val Loss: 0.578682\n",
      "Epoch: 1/4... Step: 300... Loss: 0.698328... Val Loss: 0.692920\n",
      "Epoch: 1/4... Step: 400... Loss: 0.706950... Val Loss: 0.685872\n",
      "Epoch: 2/4... Step: 500... Loss: 0.503890... Val Loss: 0.547126\n",
      "Epoch: 2/4... Step: 600... Loss: 0.439317... Val Loss: 0.518988\n",
      "Epoch: 2/4... Step: 700... Loss: 0.392597... Val Loss: 0.439854\n",
      "Epoch: 2/4... Step: 800... Loss: 0.349072... Val Loss: 0.421409\n",
      "Epoch: 3/4... Step: 900... Loss: 0.209491... Val Loss: 0.443384\n",
      "Epoch: 3/4... Step: 1000... Loss: 0.355974... Val Loss: 0.447633\n",
      "Epoch: 3/4... Step: 1100... Loss: 0.239174... Val Loss: 0.506552\n",
      "Epoch: 3/4... Step: 1200... Loss: 0.305143... Val Loss: 0.433319\n",
      "Epoch: 4/4... Step: 1300... Loss: 0.166798... Val Loss: 0.507415\n",
      "Epoch: 4/4... Step: 1400... Loss: 0.199562... Val Loss: 0.514004\n",
      "Epoch: 4/4... Step: 1500... Loss: 0.197637... Val Loss: 0.481340\n",
      "Epoch: 4/4... Step: 1600... Loss: 0.412252... Val Loss: 0.496272\n"
     ]
    }
   ],
   "source": [
    "# training params\n",
    "\n",
    "epochs = 4 # 3-4 is approx where I noticed the validation loss stop decreasing\n",
    "\n",
    "counter = 0\n",
    "print_every = 100\n",
    "clip=5 # gradient clipping\n",
    "\n",
    "# move model to GPU, if available\n",
    "if(train_on_gpu):\n",
    "    net.cuda()\n",
    "\n",
    "net.train()\n",
    "# train for some number of epochs\n",
    "for e in range(epochs):\n",
    "    # initialize hidden state\n",
    "    h = net.init_hidden(batch_size)\n",
    "\n",
    "    # batch loop\n",
    "    for inputs, labels in train_loader:\n",
    "        counter += 1\n",
    "\n",
    "        if(train_on_gpu):\n",
    "            inputs, labels = inputs.cuda(), labels.cuda()\n",
    "\n",
    "        # Creating new variables for the hidden state, otherwise\n",
    "        # we'd backprop through the entire training history\n",
    "        h = tuple([each.data for each in h])\n",
    "\n",
    "        # zero accumulated gradients\n",
    "        net.zero_grad()\n",
    "\n",
    "        # get the output from the model\n",
    "        output, h = net(inputs, h)\n",
    "\n",
    "        # calculate the loss and perform backprop\n",
    "        loss = criterion(output.squeeze(), labels.float())\n",
    "        loss.backward()\n",
    "        # `clip_grad_norm` helps prevent the exploding gradient problem in RNNs / LSTMs.\n",
    "        nn.utils.clip_grad_norm_(net.parameters(), clip)\n",
    "        optimizer.step()\n",
    "\n",
    "        # loss stats\n",
    "        if counter % print_every == 0:\n",
    "            # Get validation loss\n",
    "            val_h = net.init_hidden(batch_size)\n",
    "            val_losses = []\n",
    "            net.eval()\n",
    "            for inputs, labels in valid_loader:\n",
    "\n",
    "                # Creating new variables for the hidden state, otherwise\n",
    "                # we'd backprop through the entire training history\n",
    "                val_h = tuple([each.data for each in val_h])\n",
    "\n",
    "                if(train_on_gpu):\n",
    "                    inputs, labels = inputs.cuda(), labels.cuda()\n",
    "\n",
    "                output, val_h = net(inputs, val_h)\n",
    "                val_loss = criterion(output.squeeze(), labels.float())\n",
    "\n",
    "                val_losses.append(val_loss.item())\n",
    "\n",
    "            net.train()\n",
    "            print(\"Epoch: {}/{}...\".format(e+1, epochs),\n",
    "                  \"Step: {}...\".format(counter),\n",
    "                  \"Loss: {:.6f}...\".format(loss.item()),\n",
    "                  \"Val Loss: {:.6f}\".format(np.mean(val_losses)))"
   ]
  },
  {
   "cell_type": "code",
   "execution_count": 33,
   "metadata": {
    "colab": {
     "base_uri": "https://localhost:8080/",
     "height": 50
    },
    "colab_type": "code",
    "executionInfo": {
     "elapsed": 2763,
     "status": "ok",
     "timestamp": 1559303604077,
     "user": {
      "displayName": "Sneha Raina",
      "photoUrl": "https://lh6.googleusercontent.com/-dNoZz33G64w/AAAAAAAAAAI/AAAAAAAAABI/Gv0kWKlYNI8/s64/photo.jpg",
      "userId": "11338606071996182085"
     },
     "user_tz": -330
    },
    "id": "gZ7GUkUkfcxn",
    "outputId": "250b2ec1-fbd9-4a35-b9ec-50fc05321fa7"
   },
   "outputs": [
    {
     "name": "stdout",
     "output_type": "stream",
     "text": [
      "Test loss: 0.503\n",
      "Test accuracy: 0.813\n"
     ]
    }
   ],
   "source": [
    "# Get test data loss and accuracy\n",
    "\n",
    "test_losses = [] # track loss\n",
    "num_correct = 0\n",
    "\n",
    "# init hidden state\n",
    "h = net.init_hidden(batch_size)\n",
    "\n",
    "net.eval()\n",
    "# iterate over test data\n",
    "for inputs, labels in test_loader:\n",
    "\n",
    "    # Creating new variables for the hidden state, otherwise\n",
    "    # we'd backprop through the entire training history\n",
    "    h = tuple([each.data for each in h])\n",
    "\n",
    "    if(train_on_gpu):\n",
    "        inputs, labels = inputs.cuda(), labels.cuda()\n",
    "    \n",
    "    # get predicted outputs\n",
    "    output, h = net(inputs, h)\n",
    "    \n",
    "    # calculate loss\n",
    "    test_loss = criterion(output.squeeze(), labels.float())\n",
    "    test_losses.append(test_loss.item())\n",
    "    \n",
    "    # convert output probabilities to predicted class (0 or 1)\n",
    "    pred = torch.round(output.squeeze())  # rounds to the nearest integer\n",
    "    \n",
    "    # compare predictions to true label\n",
    "    correct_tensor = pred.eq(labels.float().view_as(pred))\n",
    "    correct = np.squeeze(correct_tensor.numpy()) if not train_on_gpu else np.squeeze(correct_tensor.cpu().numpy())\n",
    "    num_correct += np.sum(correct)\n",
    "\n",
    "\n",
    "# -- stats! -- ##\n",
    "# avg test loss\n",
    "print(\"Test loss: {:.3f}\".format(np.mean(test_losses)))\n",
    "\n",
    "# accuracy over all test data\n",
    "test_acc = num_correct/len(test_loader.dataset)\n",
    "print(\"Test accuracy: {:.3f}\".format(test_acc))"
   ]
  },
  {
   "cell_type": "code",
   "execution_count": 0,
   "metadata": {
    "colab": {},
    "colab_type": "code",
    "id": "0voq-JXMg2kR"
   },
   "outputs": [],
   "source": [
    "# negative test review\n",
    "test_review_neg = 'The worst movie I ever saw; acting was bad. This movie had horrible acting and the plot was predictable.'\n"
   ]
  },
  {
   "cell_type": "code",
   "execution_count": 35,
   "metadata": {
    "colab": {
     "base_uri": "https://localhost:8080/",
     "height": 34
    },
    "colab_type": "code",
    "executionInfo": {
     "elapsed": 1210,
     "status": "ok",
     "timestamp": 1559303616607,
     "user": {
      "displayName": "Sneha Raina",
      "photoUrl": "https://lh6.googleusercontent.com/-dNoZz33G64w/AAAAAAAAAAI/AAAAAAAAABI/Gv0kWKlYNI8/s64/photo.jpg",
      "userId": "11338606071996182085"
     },
     "user_tz": -330
    },
    "id": "p1SCAQh6hPzC",
    "outputId": "d7547333-6642-471e-9dce-0c26cb09a825"
   },
   "outputs": [
    {
     "name": "stdout",
     "output_type": "stream",
     "text": [
      "[[1, 247, 18, 10, 124, 216, 113, 14, 76, 11, 18, 68, 517, 113, 2, 1, 112, 14, 713]]\n"
     ]
    }
   ],
   "source": [
    "from string import punctuation\n",
    "\n",
    "def tokenize_review(test_review):\n",
    "    test_review = test_review.lower() # lowercase\n",
    "    # get rid of punctuation\n",
    "    test_text = ''.join([c for c in test_review if c not in punctuation])\n",
    "\n",
    "    # splitting by spaces\n",
    "    test_words = test_text.split()\n",
    "\n",
    "    # tokens\n",
    "    test_ints = []\n",
    "    test_ints.append([vocab_to_int[word] for word in test_words])\n",
    "\n",
    "    return test_ints\n",
    "\n",
    "# test code and generate tokenized review\n",
    "test_ints = tokenize_review(test_review_neg)\n",
    "print(test_ints)"
   ]
  },
  {
   "cell_type": "code",
   "execution_count": 36,
   "metadata": {
    "colab": {
     "base_uri": "https://localhost:8080/",
     "height": 218
    },
    "colab_type": "code",
    "executionInfo": {
     "elapsed": 1446,
     "status": "ok",
     "timestamp": 1559303622981,
     "user": {
      "displayName": "Sneha Raina",
      "photoUrl": "https://lh6.googleusercontent.com/-dNoZz33G64w/AAAAAAAAAAI/AAAAAAAAABI/Gv0kWKlYNI8/s64/photo.jpg",
      "userId": "11338606071996182085"
     },
     "user_tz": -330
    },
    "id": "zfTLJ84ahRU6",
    "outputId": "d969e66f-d004-411e-eab4-0324c51fccb6"
   },
   "outputs": [
    {
     "name": "stdout",
     "output_type": "stream",
     "text": [
      "[[  0   0   0   0   0   0   0   0   0   0   0   0   0   0   0   0   0   0\n",
      "    0   0   0   0   0   0   0   0   0   0   0   0   0   0   0   0   0   0\n",
      "    0   0   0   0   0   0   0   0   0   0   0   0   0   0   0   0   0   0\n",
      "    0   0   0   0   0   0   0   0   0   0   0   0   0   0   0   0   0   0\n",
      "    0   0   0   0   0   0   0   0   0   0   0   0   0   0   0   0   0   0\n",
      "    0   0   0   0   0   0   0   0   0   0   0   0   0   0   0   0   0   0\n",
      "    0   0   0   0   0   0   0   0   0   0   0   0   0   0   0   0   0   0\n",
      "    0   0   0   0   0   0   0   0   0   0   0   0   0   0   0   0   0   0\n",
      "    0   0   0   0   0   0   0   0   0   0   0   0   0   0   0   0   0   0\n",
      "    0   0   0   0   0   0   0   0   0   0   0   0   0   0   0   0   0   0\n",
      "    0   1 247  18  10 124 216 113  14  76  11  18  68 517 113   2   1 112\n",
      "   14 713]]\n"
     ]
    }
   ],
   "source": [
    "# test sequence padding\n",
    "seq_length=200\n",
    "features = pad_features(test_ints, seq_length)\n",
    "\n",
    "print(features)"
   ]
  },
  {
   "cell_type": "code",
   "execution_count": 37,
   "metadata": {
    "colab": {
     "base_uri": "https://localhost:8080/",
     "height": 34
    },
    "colab_type": "code",
    "executionInfo": {
     "elapsed": 1347,
     "status": "ok",
     "timestamp": 1559303626824,
     "user": {
      "displayName": "Sneha Raina",
      "photoUrl": "https://lh6.googleusercontent.com/-dNoZz33G64w/AAAAAAAAAAI/AAAAAAAAABI/Gv0kWKlYNI8/s64/photo.jpg",
      "userId": "11338606071996182085"
     },
     "user_tz": -330
    },
    "id": "-2GU7ZkHhYTN",
    "outputId": "874d21b2-9849-43cf-a1d4-435fb5bf0dad"
   },
   "outputs": [
    {
     "name": "stdout",
     "output_type": "stream",
     "text": [
      "torch.Size([1, 200])\n"
     ]
    }
   ],
   "source": [
    "# test conversion to tensor and pass into your model\n",
    "feature_tensor = torch.from_numpy(features)\n",
    "print(feature_tensor.size())"
   ]
  },
  {
   "cell_type": "code",
   "execution_count": 0,
   "metadata": {
    "colab": {},
    "colab_type": "code",
    "id": "-nvwOro0ha1u"
   },
   "outputs": [],
   "source": [
    "def predict(net, test_review, sequence_length=200):\n",
    "    \n",
    "    net.eval()\n",
    "    \n",
    "    # tokenize review\n",
    "    test_ints = tokenize_review(test_review)\n",
    "    \n",
    "    # pad tokenized sequence\n",
    "    seq_length=sequence_length\n",
    "    features = pad_features(test_ints, seq_length)\n",
    "    \n",
    "    # convert to tensor to pass into your model\n",
    "    feature_tensor = torch.from_numpy(features)\n",
    "    \n",
    "    batch_size = feature_tensor.size(0)\n",
    "    \n",
    "    # initialize hidden state\n",
    "    h = net.init_hidden(batch_size)\n",
    "    \n",
    "    if(train_on_gpu):\n",
    "        feature_tensor = feature_tensor.cuda()\n",
    "    \n",
    "    # get the output from the model\n",
    "    output, h = net(feature_tensor, h)\n",
    "    \n",
    "    # convert output probabilities to predicted class (0 or 1)\n",
    "    pred = torch.round(output.squeeze()) \n",
    "    # printing output value, before rounding\n",
    "    print('Prediction value, pre-rounding: {:.6f}'.format(output.item()))\n",
    "    \n",
    "    # print custom response\n",
    "    if(pred.item()==1):\n",
    "        print(\"Positive review detected!\")\n",
    "    else:\n",
    "        print(\"Negative review detected.\")\n",
    "        "
   ]
  },
  {
   "cell_type": "code",
   "execution_count": 39,
   "metadata": {
    "colab": {
     "base_uri": "https://localhost:8080/",
     "height": 50
    },
    "colab_type": "code",
    "executionInfo": {
     "elapsed": 2023,
     "status": "ok",
     "timestamp": 1559303634685,
     "user": {
      "displayName": "Sneha Raina",
      "photoUrl": "https://lh6.googleusercontent.com/-dNoZz33G64w/AAAAAAAAAAI/AAAAAAAAABI/Gv0kWKlYNI8/s64/photo.jpg",
      "userId": "11338606071996182085"
     },
     "user_tz": -330
    },
    "id": "dljF2ibghdhX",
    "outputId": "7778ccf5-30fa-43c3-f2ce-31e6c60b6602"
   },
   "outputs": [
    {
     "name": "stdout",
     "output_type": "stream",
     "text": [
      "Prediction value, pre-rounding: 0.007402\n",
      "Negative review detected.\n"
     ]
    }
   ],
   "source": [
    "# call function\n",
    "seq_length=200 # good to use the length that was trained on\n",
    "\n",
    "predict(net, test_review_neg, seq_length)"
   ]
  },
  {
   "cell_type": "code",
   "execution_count": 0,
   "metadata": {
    "colab": {},
    "colab_type": "code",
    "id": "n5uLP5DQhgdg"
   },
   "outputs": [],
   "source": [
    "# positive test review\n",
    "test_review_pos = 'This movie was awesome. The dialouges were brilliant and the acting was excellant.'\n"
   ]
  },
  {
   "cell_type": "code",
   "execution_count": 42,
   "metadata": {
    "colab": {
     "base_uri": "https://localhost:8080/",
     "height": 50
    },
    "colab_type": "code",
    "executionInfo": {
     "elapsed": 1451,
     "status": "ok",
     "timestamp": 1559303692033,
     "user": {
      "displayName": "Sneha Raina",
      "photoUrl": "https://lh6.googleusercontent.com/-dNoZz33G64w/AAAAAAAAAAI/AAAAAAAAABI/Gv0kWKlYNI8/s64/photo.jpg",
      "userId": "11338606071996182085"
     },
     "user_tz": -330
    },
    "id": "-rlhSKGGhv2D",
    "outputId": "5541b4c1-df62-410f-8bd3-7452d2cbd39d"
   },
   "outputs": [
    {
     "name": "stdout",
     "output_type": "stream",
     "text": [
      "Prediction value, pre-rounding: 0.949129\n",
      "Positive review detected!\n"
     ]
    }
   ],
   "source": [
    "# call function\n",
    "seq_length=200 # good to use the length that was trained on\n",
    "\n",
    "predict(net,\"This movie was awesome. the acting was good. Plot was gritty\", seq_length)"
   ]
  },
  {
   "cell_type": "code",
   "execution_count": 43,
   "metadata": {
    "colab": {
     "base_uri": "https://localhost:8080/",
     "height": 50
    },
    "colab_type": "code",
    "executionInfo": {
     "elapsed": 1573,
     "status": "ok",
     "timestamp": 1559303736895,
     "user": {
      "displayName": "Sneha Raina",
      "photoUrl": "https://lh6.googleusercontent.com/-dNoZz33G64w/AAAAAAAAAAI/AAAAAAAAABI/Gv0kWKlYNI8/s64/photo.jpg",
      "userId": "11338606071996182085"
     },
     "user_tz": -330
    },
    "id": "eBN22kY-vjev",
    "outputId": "24678931-5c2d-4817-89e6-31a4a38377a2"
   },
   "outputs": [
    {
     "name": "stdout",
     "output_type": "stream",
     "text": [
      "Prediction value, pre-rounding: 0.017584\n",
      "Negative review detected.\n"
     ]
    }
   ],
   "source": [
    "predict(net,\"What a waste of time and money\",200)"
   ]
  },
  {
   "cell_type": "code",
   "execution_count": 109,
   "metadata": {
    "colab": {
     "base_uri": "https://localhost:8080/",
     "height": 54
    },
    "colab_type": "code",
    "executionInfo": {
     "elapsed": 1098,
     "status": "ok",
     "timestamp": 1559309195353,
     "user": {
      "displayName": "Sneha Raina",
      "photoUrl": "https://lh6.googleusercontent.com/-dNoZz33G64w/AAAAAAAAAAI/AAAAAAAAABI/Gv0kWKlYNI8/s64/photo.jpg",
      "userId": "11338606071996182085"
     },
     "user_tz": -330
    },
    "id": "zih0Ifu2h4rk",
    "outputId": "34aef59c-c87a-447a-9a29-c7940f97d1e6"
   },
   "outputs": [
    {
     "name": "stdout",
     "output_type": "stream",
     "text": [
      "{'statuses': [{'created_at': 'Wed May 29 10:25:13 +0000 2019', 'id': 1133680688979501056, 'id_str': '1133680688979501056', 'text': 'RT @OriginalFunko: RT &amp; follow @OriginalFunko for a chance to WIN a 6\" Super Sized Hulk with Gauntlet Pop! \\n#FunkoAvengers #AvengersEndgame…', 'truncated': False, 'entities': {'hashtags': [{'text': 'FunkoAvengers', 'indices': [112, 126]}, {'text': 'AvengersEndgame', 'indices': [127, 143]}], 'symbols': [], 'user_mentions': [{'screen_name': 'OriginalFunko', 'name': 'Funko', 'id': 1378000488, 'id_str': '1378000488', 'indices': [3, 17]}, {'screen_name': 'OriginalFunko', 'name': 'Funko', 'id': 1378000488, 'id_str': '1378000488', 'indices': [35, 49]}], 'urls': []}, 'metadata': {'iso_language_code': 'en', 'result_type': 'recent'}, 'source': '<a href=\"http://twitter.com/download/iphone\" rel=\"nofollow\">Twitter for iPhone</a>', 'in_reply_to_status_id': None, 'in_reply_to_status_id_str': None, 'in_reply_to_user_id': None, 'in_reply_to_user_id_str': None, 'in_reply_to_screen_name': None, 'user': {'id': 911004186, 'id_str': '911004186', 'name': 's', 'screen_name': 'donovasc', 'location': '', 'description': '', 'url': None, 'entities': {'description': {'urls': []}}, 'protected': False, 'followers_count': 45, 'friends_count': 183, 'listed_count': 0, 'created_at': 'Sun Oct 28 20:04:13 +0000 2012', 'favourites_count': 563, 'utc_offset': None, 'time_zone': None, 'geo_enabled': True, 'verified': False, 'statuses_count': 2224, 'lang': 'en', 'contributors_enabled': False, 'is_translator': False, 'is_translation_enabled': False, 'profile_background_color': 'C0DEED', 'profile_background_image_url': 'http://abs.twimg.com/images/themes/theme1/bg.png', 'profile_background_image_url_https': 'https://abs.twimg.com/images/themes/theme1/bg.png', 'profile_background_tile': False, 'profile_image_url': 'http://pbs.twimg.com/profile_images/2776850776/5ffb2d9908f8a32e484c2b7e911f97c6_normal.jpeg', 'profile_image_url_https': 'https://pbs.twimg.com/profile_images/2776850776/5ffb2d9908f8a32e484c2b7e911f97c6_normal.jpeg', 'profile_link_color': '1DA1F2', 'profile_sidebar_border_color': 'C0DEED', 'profile_sidebar_fill_color': 'DDEEF6', 'profile_text_color': '333333', 'profile_use_background_image': True, 'has_extended_profile': False, 'default_profile': True, 'default_profile_image': False, 'following': False, 'follow_request_sent': False, 'notifications': False, 'translator_type': 'none'}, 'geo': None, 'coordinates': None, 'place': None, 'contributors': None, 'retweeted_status': {'created_at': 'Wed May 29 02:07:01 +0000 2019', 'id': 1133555311871254528, 'id_str': '1133555311871254528', 'text': 'RT &amp; follow @OriginalFunko for a chance to WIN a 6\" Super Sized Hulk with Gauntlet Pop! \\n#FunkoAvengers… https://t.co/MtLkcU0XKC', 'truncated': True, 'entities': {'hashtags': [{'text': 'FunkoAvengers', 'indices': [93, 107]}], 'symbols': [], 'user_mentions': [{'screen_name': 'OriginalFunko', 'name': 'Funko', 'id': 1378000488, 'id_str': '1378000488', 'indices': [16, 30]}], 'urls': [{'url': 'https://t.co/MtLkcU0XKC', 'expanded_url': 'https://twitter.com/i/web/status/1133555311871254528', 'display_url': 'twitter.com/i/web/status/1…', 'indices': [109, 132]}]}, 'metadata': {'iso_language_code': 'en', 'result_type': 'recent'}, 'source': '<a href=\"https://sproutsocial.com\" rel=\"nofollow\">Sprout Social</a>', 'in_reply_to_status_id': None, 'in_reply_to_status_id_str': None, 'in_reply_to_user_id': None, 'in_reply_to_user_id_str': None, 'in_reply_to_screen_name': None, 'user': {'id': 1378000488, 'id_str': '1378000488', 'name': 'Funko', 'screen_name': 'OriginalFunko', 'location': 'Everett, WA', 'description': 'Funko is a pop culture licensing & collectibles company. Support: @PoweredbyFunko https://t.co/xHZ8KZtn0M https://t.co/UNIpDWVpgg', 'url': 'http://t.co/0W4J4qri4v', 'entities': {'url': {'urls': [{'url': 'http://t.co/0W4J4qri4v', 'expanded_url': 'http://www.funko.com', 'display_url': 'funko.com', 'indices': [0, 22]}]}, 'description': {'urls': [{'url': 'https://t.co/xHZ8KZtn0M', 'expanded_url': 'http://www.instagram.com/OriginalFunko', 'display_url': 'instagram.com/OriginalFunko', 'indices': [82, 105]}, {'url': 'https://t.co/UNIpDWVpgg', 'expanded_url': 'http://www.facebook.com/OriginalFunko', 'display_url': 'facebook.com/OriginalFunko', 'indices': [106, 129]}]}}, 'protected': False, 'followers_count': 991033, 'friends_count': 3438, 'listed_count': 2805, 'created_at': 'Wed Apr 24 21:18:18 +0000 2013', 'favourites_count': 34235, 'utc_offset': None, 'time_zone': None, 'geo_enabled': True, 'verified': True, 'statuses_count': 54398, 'lang': 'en', 'contributors_enabled': False, 'is_translator': False, 'is_translation_enabled': False, 'profile_background_color': '000000', 'profile_background_image_url': 'http://abs.twimg.com/images/themes/theme1/bg.png', 'profile_background_image_url_https': 'https://abs.twimg.com/images/themes/theme1/bg.png', 'profile_background_tile': False, 'profile_image_url': 'http://pbs.twimg.com/profile_images/875392314541096962/e6C4F4jj_normal.jpg', 'profile_image_url_https': 'https://pbs.twimg.com/profile_images/875392314541096962/e6C4F4jj_normal.jpg', 'profile_banner_url': 'https://pbs.twimg.com/profile_banners/1378000488/1532378161', 'profile_link_color': 'D10000', 'profile_sidebar_border_color': 'FFFFFF', 'profile_sidebar_fill_color': 'DDEEF6', 'profile_text_color': '333333', 'profile_use_background_image': True, 'has_extended_profile': True, 'default_profile': False, 'default_profile_image': False, 'following': False, 'follow_request_sent': False, 'notifications': False, 'translator_type': 'none'}, 'geo': None, 'coordinates': None, 'place': None, 'contributors': None, 'is_quote_status': False, 'retweet_count': 12262, 'favorite_count': 5087, 'favorited': False, 'retweeted': False, 'possibly_sensitive': False, 'lang': 'en'}, 'is_quote_status': False, 'retweet_count': 12262, 'favorite_count': 0, 'favorited': False, 'retweeted': False, 'lang': 'en'}], 'search_metadata': {'completed_in': 0.037, 'max_id': 1133680688979501056, 'max_id_str': '1133680688979501056', 'next_results': '?max_id=1133680688979501055&q=%23AvengersEndgame&count=1&include_entities=1', 'query': '%23AvengersEndgame', 'refresh_url': '?since_id=1133680688979501056&q=%23AvengersEndgame&include_entities=1', 'count': 1, 'since_id': 0, 'since_id_str': '0'}}\n"
     ]
    }
   ],
   "source": [
    "#Reading from the json file which has the twitter data\n",
    "import json\n",
    "\n",
    "with open('f1.json') as f:\n",
    "    d = json.load(f)\n",
    "    print(d)\n",
    "    \n"
   ]
  },
  {
   "cell_type": "code",
   "execution_count": 113,
   "metadata": {
    "colab": {
     "base_uri": "https://localhost:8080/",
     "height": 34
    },
    "colab_type": "code",
    "executionInfo": {
     "elapsed": 1629,
     "status": "ok",
     "timestamp": 1559309241228,
     "user": {
      "displayName": "Sneha Raina",
      "photoUrl": "https://lh6.googleusercontent.com/-dNoZz33G64w/AAAAAAAAAAI/AAAAAAAAABI/Gv0kWKlYNI8/s64/photo.jpg",
      "userId": "11338606071996182085"
     },
     "user_tz": -330
    },
    "id": "hLftmE86wWzl",
    "outputId": "e4c30c06-c9e6-4a9d-a8fa-425ef11a5b45"
   },
   "outputs": [
    {
     "data": {
      "text/plain": [
       "' RT &amp; follow @OriginalFunko for a chance to WIN a 6\" Super Sized Hulk with Gauntlet Pop! \\n#FunkoAvengers #AvengersEndgame…'"
      ]
     },
     "execution_count": 113,
     "metadata": {
      "tags": []
     },
     "output_type": "execute_result"
    }
   ],
   "source": [
    "#cleaning the above string so that it contains only the information about text in tweet\n",
    "for i in range(len(d['statuses'][0]['text'])):\n",
    "    if(d['statuses'][0]['text'][i]==\":\"):\n",
    "        break\n",
    "  \n",
    " \n",
    "rev=d['statuses'][0]['text'][i+1:]\n",
    "\n",
    "rev=rev.strip('\\n')\n",
    "rev"
   ]
  },
  {
   "cell_type": "code",
   "execution_count": 98,
   "metadata": {
    "colab": {
     "base_uri": "https://localhost:8080/",
     "height": 67
    },
    "colab_type": "code",
    "executionInfo": {
     "elapsed": 1582,
     "status": "ok",
     "timestamp": 1559308728604,
     "user": {
      "displayName": "Sneha Raina",
      "photoUrl": "https://lh6.googleusercontent.com/-dNoZz33G64w/AAAAAAAAAAI/AAAAAAAAABI/Gv0kWKlYNI8/s64/photo.jpg",
      "userId": "11338606071996182085"
     },
     "user_tz": -330
    },
    "id": "Hv8FV9k5CrDE",
    "outputId": "e1c21b1e-d0f8-4c84-81a9-d8189f1e545f"
   },
   "outputs": [
    {
     "name": "stdout",
     "output_type": "stream",
     "text": [
      "[nltk_data] Downloading package words to /root/nltk_data...\n",
      "[nltk_data]   Unzipping corpora/words.zip.\n"
     ]
    },
    {
     "data": {
      "text/plain": [
       "True"
      ]
     },
     "execution_count": 98,
     "metadata": {
      "tags": []
     },
     "output_type": "execute_result"
    }
   ],
   "source": [
    "#using nltk to filter out non english words in the string\n",
    "import nltk\n",
    "nltk.download('words')"
   ]
  },
  {
   "cell_type": "code",
   "execution_count": 0,
   "metadata": {
    "colab": {},
    "colab_type": "code",
    "id": "_x4RFZgv-Uox"
   },
   "outputs": [],
   "source": [
    "import nltk\n",
    "collection = set(nltk.corpus.words.words())\n",
    "\n",
    "sent = rev\n",
    "res = \" \".join(w for w in nltk.wordpunct_tokenize(sent) \\\n",
    "         if w.lower() in collection or not w.isalpha())\n"
   ]
  },
  {
   "cell_type": "code",
   "execution_count": 115,
   "metadata": {
    "colab": {
     "base_uri": "https://localhost:8080/",
     "height": 34
    },
    "colab_type": "code",
    "executionInfo": {
     "elapsed": 1641,
     "status": "ok",
     "timestamp": 1559309294356,
     "user": {
      "displayName": "Sneha Raina",
      "photoUrl": "https://lh6.googleusercontent.com/-dNoZz33G64w/AAAAAAAAAAI/AAAAAAAAABI/Gv0kWKlYNI8/s64/photo.jpg",
      "userId": "11338606071996182085"
     },
     "user_tz": -330
    },
    "id": "HxOrWxq6C_ta",
    "outputId": "1d7599ed-bc05-4c38-9bd0-af8898a408b1"
   },
   "outputs": [
    {
     "data": {
      "text/plain": [
       "'& ; follow @ for a chance to WIN a 6 \" Super Sized Hulk with Gauntlet Pop ! # # …'"
      ]
     },
     "execution_count": 115,
     "metadata": {
      "tags": []
     },
     "output_type": "execute_result"
    }
   ],
   "source": [
    "res"
   ]
  },
  {
   "cell_type": "code",
   "execution_count": 117,
   "metadata": {
    "colab": {
     "base_uri": "https://localhost:8080/",
     "height": 34
    },
    "colab_type": "code",
    "executionInfo": {
     "elapsed": 3247,
     "status": "ok",
     "timestamp": 1559309448584,
     "user": {
      "displayName": "Sneha Raina",
      "photoUrl": "https://lh6.googleusercontent.com/-dNoZz33G64w/AAAAAAAAAAI/AAAAAAAAABI/Gv0kWKlYNI8/s64/photo.jpg",
      "userId": "11338606071996182085"
     },
     "user_tz": -330
    },
    "id": "NupcH81P-Rvj",
    "outputId": "807f6e31-776e-48cc-c147-aba65ef3a59c"
   },
   "outputs": [
    {
     "name": "stdout",
     "output_type": "stream",
     "text": [
      "  follow  for a chance to WIN a   Super Sized Hulk with Gauntlet Pop    …\n"
     ]
    }
   ],
   "source": [
    "# define punctuation\n",
    "punctuations = '''1234567890!()-[]{};:'\"\\,<>./?@#$%^&*_~'''\n",
    "\n",
    "st=res\n",
    "# To take input from the user\n",
    "# my_str = input(\"Enter a string: \")\n",
    "\n",
    "# remove punctuation from the string\n",
    "no_punct = \"\"\n",
    "for char in st:\n",
    "    if char not in punctuations:\n",
    "        no_punct = no_punct + char\n",
    "\n",
    "# display the unpunctuated string\n",
    "print(no_punct)"
   ]
  },
  {
   "cell_type": "code",
   "execution_count": 0,
   "metadata": {
    "colab": {},
    "colab_type": "code",
    "id": "MZPXKj8mGAs4"
   },
   "outputs": [],
   "source": [
    "#using regex to remove extra non essential characters\n",
    "import re"
   ]
  },
  {
   "cell_type": "code",
   "execution_count": 122,
   "metadata": {
    "colab": {
     "base_uri": "https://localhost:8080/",
     "height": 34
    },
    "colab_type": "code",
    "executionInfo": {
     "elapsed": 1421,
     "status": "ok",
     "timestamp": 1559309905957,
     "user": {
      "displayName": "Sneha Raina",
      "photoUrl": "https://lh6.googleusercontent.com/-dNoZz33G64w/AAAAAAAAAAI/AAAAAAAAABI/Gv0kWKlYNI8/s64/photo.jpg",
      "userId": "11338606071996182085"
     },
     "user_tz": -330
    },
    "id": "ROn_QsbqGnIl",
    "outputId": "351e1029-f306-4c4d-8dea-4a9dad53596c"
   },
   "outputs": [
    {
     "data": {
      "text/plain": [
       "'  follow  for a chance to WIN a   Super Sized Hulk with Gauntlet Pop   '"
      ]
     },
     "execution_count": 122,
     "metadata": {
      "tags": []
     },
     "output_type": "execute_result"
    }
   ],
   "source": [
    "no_punct=re.sub('\\ …','',no_punct)\n",
    "no_punct"
   ]
  },
  {
   "cell_type": "code",
   "execution_count": 123,
   "metadata": {
    "colab": {
     "base_uri": "https://localhost:8080/",
     "height": 50
    },
    "colab_type": "code",
    "executionInfo": {
     "elapsed": 1899,
     "status": "ok",
     "timestamp": 1559309919975,
     "user": {
      "displayName": "Sneha Raina",
      "photoUrl": "https://lh6.googleusercontent.com/-dNoZz33G64w/AAAAAAAAAAI/AAAAAAAAABI/Gv0kWKlYNI8/s64/photo.jpg",
      "userId": "11338606071996182085"
     },
     "user_tz": -330
    },
    "id": "XvyajWaK91AM",
    "outputId": "36a4f49f-d8d7-4524-faa9-03d018ead844"
   },
   "outputs": [
    {
     "name": "stdout",
     "output_type": "stream",
     "text": [
      "Prediction value, pre-rounding: 0.975149\n",
      "Positive review detected!\n"
     ]
    }
   ],
   "source": [
    "#passing the string to predict function\n",
    "predict(net,no_punct,200)"
   ]
  }
 ],
 "metadata": {
  "accelerator": "GPU",
  "colab": {
   "collapsed_sections": [],
   "name": "Sentiment.ipynb",
   "provenance": [],
   "version": "0.3.2"
  },
  "kernelspec": {
   "display_name": "Python 3",
   "language": "python",
   "name": "python3"
  },
  "language_info": {
   "codemirror_mode": {
    "name": "ipython",
    "version": 3
   },
   "file_extension": ".py",
   "mimetype": "text/x-python",
   "name": "python",
   "nbconvert_exporter": "python",
   "pygments_lexer": "ipython3",
   "version": "3.6.6"
  }
 },
 "nbformat": 4,
 "nbformat_minor": 1
}
